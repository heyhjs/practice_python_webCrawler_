{
 "cells": [
  {
   "cell_type": "code",
   "execution_count": 1,
   "metadata": {},
   "outputs": [],
   "source": [
    "from extractors.wwr import extract_wwr_jobs\n",
    "from extractors.indeed import extract_indeed_jobs"
   ]
  },
  {
   "cell_type": "code",
   "execution_count": 4,
   "metadata": {},
   "outputs": [],
   "source": [
    "keyword = input(\"What do you want to search for?\")\n",
    "indeed = extract_indeed_jobs(keyword)\n",
    "wwr = extract_wwr_jobs(keyword)\n",
    "jobs = indeed + wwr"
   ]
  },
  {
   "cell_type": "code",
   "execution_count": 15,
   "metadata": {},
   "outputs": [],
   "source": [
    "file = open(f\"{keyword}.csv\", \"w\", encoding=\"utf-8-sig\")\n",
    "file.write(\"Company,Location,Position,URL\\n\")\n",
    "for job in jobs:\n",
    "    file.write(f\"{job['company']},{job['location']},{job['position']},{job['link']}\\n\")\n",
    "file.close()"
   ]
  },
  {
   "cell_type": "code",
   "execution_count": null,
   "metadata": {},
   "outputs": [],
   "source": [
    "import pandas as pd\n",
    "df_jobs = pd.DataFrame(jobs)\n",
    "df_jobs"
   ]
  },
  {
   "cell_type": "markdown",
   "metadata": {},
   "source": [
    "## Assignment 7"
   ]
  },
  {
   "cell_type": "code",
   "execution_count": 1,
   "metadata": {},
   "outputs": [],
   "source": [
    "from bs4 import BeautifulSoup\n",
    "import requests"
   ]
  },
  {
   "cell_type": "code",
   "execution_count": 39,
   "metadata": {},
   "outputs": [],
   "source": [
    "def extract_jobs(term):\n",
    "    url = f\"https://remoteok.com/remote-{term}-jobs\"\n",
    "    request = requests.get(url, headers={\"User-Agent\": \"Kimchi\"})\n",
    "    if request.status_code == 200:\n",
    "        soup = BeautifulSoup(request.text, \"html.parser\")\n",
    "        # write your ✨magical✨ code here\n",
    "        results = []\n",
    "        jobs = soup.find_all('tr', class_=\"job\")\n",
    "        for job_section in jobs:\n",
    "            anchor = job_section.find('a', class_=\"preventLink\")\n",
    "            # print(anchor)\n",
    "            link = anchor['href']\n",
    "            title = job_section.select_one(\"a h2\")\n",
    "            company = job_section.select_one(\"span>h3\")\n",
    "            location = job_section.find(\"div\", class_=\"location\")\n",
    "            job_data = {\n",
    "                            'company': company.string.strip(),\n",
    "                            'location': location.string.strip(),\n",
    "                            'position': title.string.strip(),\n",
    "                            'link': f\"https://remoteok.com{link}\"\n",
    "                        }\n",
    "            results.append(job_data)\n",
    "    return results"
   ]
  },
  {
   "cell_type": "code",
   "execution_count": 43,
   "metadata": {},
   "outputs": [],
   "source": [
    "result = extract_jobs(\"react\")"
   ]
  }
 ],
 "metadata": {
  "kernelspec": {
   "display_name": "Python 3.9.13 64-bit",
   "language": "python",
   "name": "python3"
  },
  "language_info": {
   "codemirror_mode": {
    "name": "ipython",
    "version": 3
   },
   "file_extension": ".py",
   "mimetype": "text/x-python",
   "name": "python",
   "nbconvert_exporter": "python",
   "pygments_lexer": "ipython3",
   "version": "3.9.13"
  },
  "orig_nbformat": 4,
  "vscode": {
   "interpreter": {
    "hash": "ff5bf6f982f8a9052efff43380286abba2d957a77fd2be9e423375f9a649fef3"
   }
  }
 },
 "nbformat": 4,
 "nbformat_minor": 2
}
